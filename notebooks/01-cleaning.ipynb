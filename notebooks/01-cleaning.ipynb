{
 "cells": [
  {
   "cell_type": "code",
   "execution_count": 11,
   "metadata": {},
   "outputs": [],
   "source": [
    "from pathlib import Path\n",
    "from loguru import logger\n",
    "import pandas as pd\n",
    "from datetime import datetime"
   ]
  },
  {
   "cell_type": "markdown",
   "metadata": {},
   "source": [
    "Read in the file"
   ]
  },
  {
   "cell_type": "code",
   "execution_count": 12,
   "metadata": {},
   "outputs": [],
   "source": [
    "import tomllib\n",
    "\n",
    "configfile = Path(\"../config.toml\").resolve()\n",
    "with configfile.open(\"rb\") as f:\n",
    "    config = tomllib.load(f)\n",
    "processed = Path(\"../data/processed\")\n",
    "datafile = processed / config[\"inputpath\"]\n",
    "if not datafile.exists():\n",
    "    logger.warning(\n",
    "        f\"{datafile} does not exist. Maybe first run src/preprocess.py, or check the timestamp!\"\n",
    "    )"
   ]
  },
  {
   "cell_type": "code",
   "execution_count": 13,
   "metadata": {},
   "outputs": [
    {
     "data": {
      "text/html": [
       "<div>\n",
       "<style scoped>\n",
       "    .dataframe tbody tr th:only-of-type {\n",
       "        vertical-align: middle;\n",
       "    }\n",
       "\n",
       "    .dataframe tbody tr th {\n",
       "        vertical-align: top;\n",
       "    }\n",
       "\n",
       "    .dataframe thead th {\n",
       "        text-align: right;\n",
       "    }\n",
       "</style>\n",
       "<table border=\"1\" class=\"dataframe\">\n",
       "  <thead>\n",
       "    <tr style=\"text-align: right;\">\n",
       "      <th></th>\n",
       "      <th>timestamp</th>\n",
       "      <th>author</th>\n",
       "      <th>message</th>\n",
       "    </tr>\n",
       "  </thead>\n",
       "  <tbody>\n",
       "    <tr>\n",
       "      <th>0</th>\n",
       "      <td>2021-09-09 21:35:48</td>\n",
       "      <td>1 KLu PMO 3 (Pax-Zone) 🌴</td>\n",
       "      <td>‎Berichten en oproepen worden end-to-end versl...</td>\n",
       "    </tr>\n",
       "    <tr>\n",
       "      <th>1</th>\n",
       "      <td>2021-09-09 21:35:48</td>\n",
       "      <td>Steenbergen KMA</td>\n",
       "      <td>‎Steenbergen KMA heeft deze groep gemaakt</td>\n",
       "    </tr>\n",
       "    <tr>\n",
       "      <th>2</th>\n",
       "      <td>2021-09-09 21:35:48</td>\n",
       "      <td>1 KLu PMO 3 (Pax-Zone) 🌴</td>\n",
       "      <td>‎Je bent toegevoegd</td>\n",
       "    </tr>\n",
       "    <tr>\n",
       "      <th>3</th>\n",
       "      <td>2023-04-10 17:23:01</td>\n",
       "      <td>Anke KMA</td>\n",
       "      <td>Voor degene die naar de bullenparade gaan, kun...</td>\n",
       "    </tr>\n",
       "    <tr>\n",
       "      <th>4</th>\n",
       "      <td>2023-04-10 17:27:18</td>\n",
       "      <td>Anke KMA</td>\n",
       "      <td>*lijken</td>\n",
       "    </tr>\n",
       "  </tbody>\n",
       "</table>\n",
       "</div>"
      ],
      "text/plain": [
       "            timestamp                    author  \\\n",
       "0 2021-09-09 21:35:48  1 KLu PMO 3 (Pax-Zone) 🌴   \n",
       "1 2021-09-09 21:35:48           Steenbergen KMA   \n",
       "2 2021-09-09 21:35:48  1 KLu PMO 3 (Pax-Zone) 🌴   \n",
       "3 2023-04-10 17:23:01                  Anke KMA   \n",
       "4 2023-04-10 17:27:18                  Anke KMA   \n",
       "\n",
       "                                             message  \n",
       "0  ‎Berichten en oproepen worden end-to-end versl...  \n",
       "1          ‎Steenbergen KMA heeft deze groep gemaakt  \n",
       "2                                ‎Je bent toegevoegd  \n",
       "3  Voor degene die naar de bullenparade gaan, kun...  \n",
       "4                                            *lijken  "
      ]
     },
     "execution_count": 13,
     "metadata": {},
     "output_type": "execute_result"
    }
   ],
   "source": [
    "df = pd.read_csv(datafile, parse_dates=[\"timestamp\"])\n",
    "df.head()"
   ]
  },
  {
   "cell_type": "markdown",
   "metadata": {},
   "source": [
    "Check the datatypes. Note the timestamp type!"
   ]
  },
  {
   "cell_type": "code",
   "execution_count": 14,
   "metadata": {},
   "outputs": [
    {
     "data": {
      "text/plain": [
       "timestamp    datetime64[ns]\n",
       "author               object\n",
       "message              object\n",
       "dtype: object"
      ]
     },
     "execution_count": 14,
     "metadata": {},
     "output_type": "execute_result"
    }
   ],
   "source": [
    "df.dtypes"
   ]
  },
  {
   "cell_type": "markdown",
   "metadata": {},
   "source": [
    "Sometimes, author names have a tilde in front of them, allong with some unicode. Let's clean that."
   ]
  },
  {
   "cell_type": "code",
   "execution_count": 15,
   "metadata": {},
   "outputs": [],
   "source": [
    "import re\n",
    "\n",
    "clean_tilde = r\"^~\\u202f\"\n",
    "df[\"author\"] = df[\"author\"].apply(lambda x: re.sub(clean_tilde, \"\", x))"
   ]
  },
  {
   "cell_type": "markdown",
   "metadata": {},
   "source": [
    "Let's check how many unique authors we have"
   ]
  },
  {
   "cell_type": "code",
   "execution_count": 16,
   "metadata": {},
   "outputs": [
    {
     "data": {
      "text/html": [
       "<div>\n",
       "<style scoped>\n",
       "    .dataframe tbody tr th:only-of-type {\n",
       "        vertical-align: middle;\n",
       "    }\n",
       "\n",
       "    .dataframe tbody tr th {\n",
       "        vertical-align: top;\n",
       "    }\n",
       "\n",
       "    .dataframe thead th {\n",
       "        text-align: right;\n",
       "    }\n",
       "</style>\n",
       "<table border=\"1\" class=\"dataframe\">\n",
       "  <thead>\n",
       "    <tr style=\"text-align: right;\">\n",
       "      <th></th>\n",
       "      <th>timestamp</th>\n",
       "      <th>author</th>\n",
       "      <th>message</th>\n",
       "    </tr>\n",
       "  </thead>\n",
       "  <tbody>\n",
       "    <tr>\n",
       "      <th>0</th>\n",
       "      <td>2021-09-09 21:35:48</td>\n",
       "      <td>1 KLu PMO 3 (Pax-Zone) 🌴</td>\n",
       "      <td>‎Berichten en oproepen worden end-to-end versl...</td>\n",
       "    </tr>\n",
       "    <tr>\n",
       "      <th>1</th>\n",
       "      <td>2021-09-09 21:35:48</td>\n",
       "      <td>Steenbergen KMA</td>\n",
       "      <td>‎Steenbergen KMA heeft deze groep gemaakt</td>\n",
       "    </tr>\n",
       "    <tr>\n",
       "      <th>2</th>\n",
       "      <td>2021-09-09 21:35:48</td>\n",
       "      <td>1 KLu PMO 3 (Pax-Zone) 🌴</td>\n",
       "      <td>‎Je bent toegevoegd</td>\n",
       "    </tr>\n",
       "    <tr>\n",
       "      <th>3</th>\n",
       "      <td>2023-04-10 17:23:01</td>\n",
       "      <td>Anke KMA</td>\n",
       "      <td>Voor degene die naar de bullenparade gaan, kun...</td>\n",
       "    </tr>\n",
       "    <tr>\n",
       "      <th>4</th>\n",
       "      <td>2023-04-10 17:27:18</td>\n",
       "      <td>Anke KMA</td>\n",
       "      <td>*lijken</td>\n",
       "    </tr>\n",
       "    <tr>\n",
       "      <th>...</th>\n",
       "      <td>...</td>\n",
       "      <td>...</td>\n",
       "      <td>...</td>\n",
       "    </tr>\n",
       "    <tr>\n",
       "      <th>217</th>\n",
       "      <td>2025-01-07 10:00:28</td>\n",
       "      <td>Wendy KMA</td>\n",
       "      <td>😂😂😂😂😂😂😂😂</td>\n",
       "    </tr>\n",
       "    <tr>\n",
       "      <th>218</th>\n",
       "      <td>2025-01-07 10:00:51</td>\n",
       "      <td>Ilse KMA</td>\n",
       "      <td>Hahaha nice!</td>\n",
       "    </tr>\n",
       "    <tr>\n",
       "      <th>219</th>\n",
       "      <td>2025-01-07 10:00:55</td>\n",
       "      <td>Melissa</td>\n",
       "      <td>Geweldig haha</td>\n",
       "    </tr>\n",
       "    <tr>\n",
       "      <th>220</th>\n",
       "      <td>2025-01-07 10:00:56</td>\n",
       "      <td>Wendy KMA</td>\n",
       "      <td>Mag hopen dat je de prijs hebt gewonnen</td>\n",
       "    </tr>\n",
       "    <tr>\n",
       "      <th>221</th>\n",
       "      <td>2025-01-07 15:26:23</td>\n",
       "      <td>Anke KMA</td>\n",
       "      <td>Hahaha</td>\n",
       "    </tr>\n",
       "  </tbody>\n",
       "</table>\n",
       "<p>222 rows × 3 columns</p>\n",
       "</div>"
      ],
      "text/plain": [
       "              timestamp                    author  \\\n",
       "0   2021-09-09 21:35:48  1 KLu PMO 3 (Pax-Zone) 🌴   \n",
       "1   2021-09-09 21:35:48           Steenbergen KMA   \n",
       "2   2021-09-09 21:35:48  1 KLu PMO 3 (Pax-Zone) 🌴   \n",
       "3   2023-04-10 17:23:01                  Anke KMA   \n",
       "4   2023-04-10 17:27:18                  Anke KMA   \n",
       "..                  ...                       ...   \n",
       "217 2025-01-07 10:00:28                 Wendy KMA   \n",
       "218 2025-01-07 10:00:51                  Ilse KMA   \n",
       "219 2025-01-07 10:00:55                   Melissa   \n",
       "220 2025-01-07 10:00:56                 Wendy KMA   \n",
       "221 2025-01-07 15:26:23                  Anke KMA   \n",
       "\n",
       "                                               message  \n",
       "0    ‎Berichten en oproepen worden end-to-end versl...  \n",
       "1            ‎Steenbergen KMA heeft deze groep gemaakt  \n",
       "2                                  ‎Je bent toegevoegd  \n",
       "3    Voor degene die naar de bullenparade gaan, kun...  \n",
       "4                                              *lijken  \n",
       "..                                                 ...  \n",
       "217                                           😂😂😂😂😂😂😂😂  \n",
       "218                                       Hahaha nice!  \n",
       "219                                      Geweldig haha  \n",
       "220            Mag hopen dat je de prijs hebt gewonnen  \n",
       "221                                             Hahaha  \n",
       "\n",
       "[222 rows x 3 columns]"
      ]
     },
     "execution_count": 16,
     "metadata": {},
     "output_type": "execute_result"
    }
   ],
   "source": [
    "len(df.author.unique())\n",
    "df"
   ]
  },
  {
   "cell_type": "markdown",
   "metadata": {},
   "source": [
    "Let's make the authors anonymous"
   ]
  },
  {
   "cell_type": "code",
   "execution_count": 17,
   "metadata": {},
   "outputs": [],
   "source": [
    "import json\n",
    "from wa_analyzer.humanhasher import humanize\n",
    "\n",
    "authors = df.author.unique()\n",
    "anon = {k: humanize(k) for k in authors}\n",
    "# we save a reference file so we can look up the original author names if we want to\n",
    "reference_file = processed / \"anon_reference.json\"\n",
    "\n",
    "with open(reference_file, \"w\") as f:\n",
    "    # invert the dictionary:\n",
    "    ref = {v: k for k, v in anon.items()}\n",
    "    # sort alphabetically:\n",
    "    ref_sorted = {k: ref[k] for k in sorted(ref.keys())}\n",
    "    # save as json:\n",
    "    json.dump(ref_sorted, f)\n",
    "\n",
    "assert len(anon) == len(authors), \"you lost some authors!\""
   ]
  },
  {
   "cell_type": "code",
   "execution_count": 18,
   "metadata": {},
   "outputs": [],
   "source": [
    "df[\"anon_author\"] = df.author.map(anon)\n"
   ]
  },
  {
   "cell_type": "code",
   "execution_count": 19,
   "metadata": {},
   "outputs": [
    {
     "data": {
      "text/html": [
       "<div>\n",
       "<style scoped>\n",
       "    .dataframe tbody tr th:only-of-type {\n",
       "        vertical-align: middle;\n",
       "    }\n",
       "\n",
       "    .dataframe tbody tr th {\n",
       "        vertical-align: top;\n",
       "    }\n",
       "\n",
       "    .dataframe thead th {\n",
       "        text-align: right;\n",
       "    }\n",
       "</style>\n",
       "<table border=\"1\" class=\"dataframe\">\n",
       "  <thead>\n",
       "    <tr style=\"text-align: right;\">\n",
       "      <th></th>\n",
       "      <th>timestamp</th>\n",
       "      <th>author</th>\n",
       "      <th>message</th>\n",
       "      <th>anon_author</th>\n",
       "    </tr>\n",
       "  </thead>\n",
       "  <tbody>\n",
       "    <tr>\n",
       "      <th>0</th>\n",
       "      <td>2021-09-09 21:35:48</td>\n",
       "      <td>1 KLu PMO 3 (Pax-Zone) 🌴</td>\n",
       "      <td>‎Berichten en oproepen worden end-to-end versl...</td>\n",
       "      <td>prismatic-baboon</td>\n",
       "    </tr>\n",
       "    <tr>\n",
       "      <th>1</th>\n",
       "      <td>2021-09-09 21:35:48</td>\n",
       "      <td>Steenbergen KMA</td>\n",
       "      <td>‎Steenbergen KMA heeft deze groep gemaakt</td>\n",
       "      <td>lighthearted-kookabura</td>\n",
       "    </tr>\n",
       "    <tr>\n",
       "      <th>2</th>\n",
       "      <td>2021-09-09 21:35:48</td>\n",
       "      <td>1 KLu PMO 3 (Pax-Zone) 🌴</td>\n",
       "      <td>‎Je bent toegevoegd</td>\n",
       "      <td>prismatic-baboon</td>\n",
       "    </tr>\n",
       "    <tr>\n",
       "      <th>3</th>\n",
       "      <td>2023-04-10 17:23:01</td>\n",
       "      <td>Anke KMA</td>\n",
       "      <td>Voor degene die naar de bullenparade gaan, kun...</td>\n",
       "      <td>plaid-gazelle</td>\n",
       "    </tr>\n",
       "    <tr>\n",
       "      <th>4</th>\n",
       "      <td>2023-04-10 17:27:18</td>\n",
       "      <td>Anke KMA</td>\n",
       "      <td>*lijken</td>\n",
       "      <td>plaid-gazelle</td>\n",
       "    </tr>\n",
       "    <tr>\n",
       "      <th>...</th>\n",
       "      <td>...</td>\n",
       "      <td>...</td>\n",
       "      <td>...</td>\n",
       "      <td>...</td>\n",
       "    </tr>\n",
       "    <tr>\n",
       "      <th>217</th>\n",
       "      <td>2025-01-07 10:00:28</td>\n",
       "      <td>Wendy KMA</td>\n",
       "      <td>😂😂😂😂😂😂😂😂</td>\n",
       "      <td>gamesome-mosquito</td>\n",
       "    </tr>\n",
       "    <tr>\n",
       "      <th>218</th>\n",
       "      <td>2025-01-07 10:00:51</td>\n",
       "      <td>Ilse KMA</td>\n",
       "      <td>Hahaha nice!</td>\n",
       "      <td>flamboyant-raven</td>\n",
       "    </tr>\n",
       "    <tr>\n",
       "      <th>219</th>\n",
       "      <td>2025-01-07 10:00:55</td>\n",
       "      <td>Melissa</td>\n",
       "      <td>Geweldig haha</td>\n",
       "      <td>laughing-cat</td>\n",
       "    </tr>\n",
       "    <tr>\n",
       "      <th>220</th>\n",
       "      <td>2025-01-07 10:00:56</td>\n",
       "      <td>Wendy KMA</td>\n",
       "      <td>Mag hopen dat je de prijs hebt gewonnen</td>\n",
       "      <td>gamesome-mosquito</td>\n",
       "    </tr>\n",
       "    <tr>\n",
       "      <th>221</th>\n",
       "      <td>2025-01-07 15:26:23</td>\n",
       "      <td>Anke KMA</td>\n",
       "      <td>Hahaha</td>\n",
       "      <td>plaid-gazelle</td>\n",
       "    </tr>\n",
       "  </tbody>\n",
       "</table>\n",
       "<p>222 rows × 4 columns</p>\n",
       "</div>"
      ],
      "text/plain": [
       "              timestamp                    author  \\\n",
       "0   2021-09-09 21:35:48  1 KLu PMO 3 (Pax-Zone) 🌴   \n",
       "1   2021-09-09 21:35:48           Steenbergen KMA   \n",
       "2   2021-09-09 21:35:48  1 KLu PMO 3 (Pax-Zone) 🌴   \n",
       "3   2023-04-10 17:23:01                  Anke KMA   \n",
       "4   2023-04-10 17:27:18                  Anke KMA   \n",
       "..                  ...                       ...   \n",
       "217 2025-01-07 10:00:28                 Wendy KMA   \n",
       "218 2025-01-07 10:00:51                  Ilse KMA   \n",
       "219 2025-01-07 10:00:55                   Melissa   \n",
       "220 2025-01-07 10:00:56                 Wendy KMA   \n",
       "221 2025-01-07 15:26:23                  Anke KMA   \n",
       "\n",
       "                                               message             anon_author  \n",
       "0    ‎Berichten en oproepen worden end-to-end versl...        prismatic-baboon  \n",
       "1            ‎Steenbergen KMA heeft deze groep gemaakt  lighthearted-kookabura  \n",
       "2                                  ‎Je bent toegevoegd        prismatic-baboon  \n",
       "3    Voor degene die naar de bullenparade gaan, kun...           plaid-gazelle  \n",
       "4                                              *lijken           plaid-gazelle  \n",
       "..                                                 ...                     ...  \n",
       "217                                           😂😂😂😂😂😂😂😂       gamesome-mosquito  \n",
       "218                                       Hahaha nice!        flamboyant-raven  \n",
       "219                                      Geweldig haha            laughing-cat  \n",
       "220            Mag hopen dat je de prijs hebt gewonnen       gamesome-mosquito  \n",
       "221                                             Hahaha           plaid-gazelle  \n",
       "\n",
       "[222 rows x 4 columns]"
      ]
     },
     "execution_count": 19,
     "metadata": {},
     "output_type": "execute_result"
    }
   ],
   "source": [
    "df"
   ]
  },
  {
   "cell_type": "markdown",
   "metadata": {},
   "source": [
    "We can now drop the original author column"
   ]
  },
  {
   "cell_type": "code",
   "execution_count": 20,
   "metadata": {},
   "outputs": [],
   "source": [
    "df.drop(columns=[\"author\"], inplace=True)"
   ]
  },
  {
   "cell_type": "markdown",
   "metadata": {},
   "source": [
    "Check if it's gone"
   ]
  },
  {
   "cell_type": "code",
   "execution_count": 21,
   "metadata": {},
   "outputs": [
    {
     "data": {
      "text/html": [
       "<div>\n",
       "<style scoped>\n",
       "    .dataframe tbody tr th:only-of-type {\n",
       "        vertical-align: middle;\n",
       "    }\n",
       "\n",
       "    .dataframe tbody tr th {\n",
       "        vertical-align: top;\n",
       "    }\n",
       "\n",
       "    .dataframe thead th {\n",
       "        text-align: right;\n",
       "    }\n",
       "</style>\n",
       "<table border=\"1\" class=\"dataframe\">\n",
       "  <thead>\n",
       "    <tr style=\"text-align: right;\">\n",
       "      <th></th>\n",
       "      <th>timestamp</th>\n",
       "      <th>message</th>\n",
       "      <th>anon_author</th>\n",
       "    </tr>\n",
       "  </thead>\n",
       "  <tbody>\n",
       "    <tr>\n",
       "      <th>0</th>\n",
       "      <td>2021-09-09 21:35:48</td>\n",
       "      <td>‎Berichten en oproepen worden end-to-end versl...</td>\n",
       "      <td>prismatic-baboon</td>\n",
       "    </tr>\n",
       "    <tr>\n",
       "      <th>1</th>\n",
       "      <td>2021-09-09 21:35:48</td>\n",
       "      <td>‎Steenbergen KMA heeft deze groep gemaakt</td>\n",
       "      <td>lighthearted-kookabura</td>\n",
       "    </tr>\n",
       "    <tr>\n",
       "      <th>2</th>\n",
       "      <td>2021-09-09 21:35:48</td>\n",
       "      <td>‎Je bent toegevoegd</td>\n",
       "      <td>prismatic-baboon</td>\n",
       "    </tr>\n",
       "    <tr>\n",
       "      <th>3</th>\n",
       "      <td>2023-04-10 17:23:01</td>\n",
       "      <td>Voor degene die naar de bullenparade gaan, kun...</td>\n",
       "      <td>plaid-gazelle</td>\n",
       "    </tr>\n",
       "    <tr>\n",
       "      <th>4</th>\n",
       "      <td>2023-04-10 17:27:18</td>\n",
       "      <td>*lijken</td>\n",
       "      <td>plaid-gazelle</td>\n",
       "    </tr>\n",
       "  </tbody>\n",
       "</table>\n",
       "</div>"
      ],
      "text/plain": [
       "            timestamp                                            message  \\\n",
       "0 2021-09-09 21:35:48  ‎Berichten en oproepen worden end-to-end versl...   \n",
       "1 2021-09-09 21:35:48          ‎Steenbergen KMA heeft deze groep gemaakt   \n",
       "2 2021-09-09 21:35:48                                ‎Je bent toegevoegd   \n",
       "3 2023-04-10 17:23:01  Voor degene die naar de bullenparade gaan, kun...   \n",
       "4 2023-04-10 17:27:18                                            *lijken   \n",
       "\n",
       "              anon_author  \n",
       "0        prismatic-baboon  \n",
       "1  lighthearted-kookabura  \n",
       "2        prismatic-baboon  \n",
       "3           plaid-gazelle  \n",
       "4           plaid-gazelle  "
      ]
     },
     "execution_count": 21,
     "metadata": {},
     "output_type": "execute_result"
    }
   ],
   "source": [
    "df.head()"
   ]
  },
  {
   "cell_type": "markdown",
   "metadata": {},
   "source": [
    "And let's rename the column"
   ]
  },
  {
   "cell_type": "code",
   "execution_count": 22,
   "metadata": {},
   "outputs": [],
   "source": [
    "df.rename(columns={\"anon_author\": \"author\"}, inplace=True)"
   ]
  },
  {
   "cell_type": "code",
   "execution_count": 23,
   "metadata": {},
   "outputs": [
    {
     "data": {
      "text/html": [
       "<div>\n",
       "<style scoped>\n",
       "    .dataframe tbody tr th:only-of-type {\n",
       "        vertical-align: middle;\n",
       "    }\n",
       "\n",
       "    .dataframe tbody tr th {\n",
       "        vertical-align: top;\n",
       "    }\n",
       "\n",
       "    .dataframe thead th {\n",
       "        text-align: right;\n",
       "    }\n",
       "</style>\n",
       "<table border=\"1\" class=\"dataframe\">\n",
       "  <thead>\n",
       "    <tr style=\"text-align: right;\">\n",
       "      <th></th>\n",
       "      <th>timestamp</th>\n",
       "      <th>message</th>\n",
       "      <th>author</th>\n",
       "    </tr>\n",
       "  </thead>\n",
       "  <tbody>\n",
       "    <tr>\n",
       "      <th>0</th>\n",
       "      <td>2021-09-09 21:35:48</td>\n",
       "      <td>‎Berichten en oproepen worden end-to-end versl...</td>\n",
       "      <td>prismatic-baboon</td>\n",
       "    </tr>\n",
       "    <tr>\n",
       "      <th>1</th>\n",
       "      <td>2021-09-09 21:35:48</td>\n",
       "      <td>‎Steenbergen KMA heeft deze groep gemaakt</td>\n",
       "      <td>lighthearted-kookabura</td>\n",
       "    </tr>\n",
       "    <tr>\n",
       "      <th>2</th>\n",
       "      <td>2021-09-09 21:35:48</td>\n",
       "      <td>‎Je bent toegevoegd</td>\n",
       "      <td>prismatic-baboon</td>\n",
       "    </tr>\n",
       "    <tr>\n",
       "      <th>3</th>\n",
       "      <td>2023-04-10 17:23:01</td>\n",
       "      <td>Voor degene die naar de bullenparade gaan, kun...</td>\n",
       "      <td>plaid-gazelle</td>\n",
       "    </tr>\n",
       "    <tr>\n",
       "      <th>4</th>\n",
       "      <td>2023-04-10 17:27:18</td>\n",
       "      <td>*lijken</td>\n",
       "      <td>plaid-gazelle</td>\n",
       "    </tr>\n",
       "  </tbody>\n",
       "</table>\n",
       "</div>"
      ],
      "text/plain": [
       "            timestamp                                            message  \\\n",
       "0 2021-09-09 21:35:48  ‎Berichten en oproepen worden end-to-end versl...   \n",
       "1 2021-09-09 21:35:48          ‎Steenbergen KMA heeft deze groep gemaakt   \n",
       "2 2021-09-09 21:35:48                                ‎Je bent toegevoegd   \n",
       "3 2023-04-10 17:23:01  Voor degene die naar de bullenparade gaan, kun...   \n",
       "4 2023-04-10 17:27:18                                            *lijken   \n",
       "\n",
       "                   author  \n",
       "0        prismatic-baboon  \n",
       "1  lighthearted-kookabura  \n",
       "2        prismatic-baboon  \n",
       "3           plaid-gazelle  \n",
       "4           plaid-gazelle  "
      ]
     },
     "execution_count": 23,
     "metadata": {},
     "output_type": "execute_result"
    }
   ],
   "source": [
    "df.head()"
   ]
  },
  {
   "cell_type": "markdown",
   "metadata": {},
   "source": [
    "In my case, the first line is a header, saying messages are encrypted. Let's remove that. Your data might be different, so double check if you also want to remove the first line!"
   ]
  },
  {
   "cell_type": "code",
   "execution_count": 24,
   "metadata": {},
   "outputs": [],
   "source": [
    "df = df.drop(index=[0])"
   ]
  },
  {
   "cell_type": "markdown",
   "metadata": {},
   "source": [
    "let's check:"
   ]
  },
  {
   "cell_type": "code",
   "execution_count": 25,
   "metadata": {},
   "outputs": [
    {
     "data": {
      "text/html": [
       "<div>\n",
       "<style scoped>\n",
       "    .dataframe tbody tr th:only-of-type {\n",
       "        vertical-align: middle;\n",
       "    }\n",
       "\n",
       "    .dataframe tbody tr th {\n",
       "        vertical-align: top;\n",
       "    }\n",
       "\n",
       "    .dataframe thead th {\n",
       "        text-align: right;\n",
       "    }\n",
       "</style>\n",
       "<table border=\"1\" class=\"dataframe\">\n",
       "  <thead>\n",
       "    <tr style=\"text-align: right;\">\n",
       "      <th></th>\n",
       "      <th>timestamp</th>\n",
       "      <th>message</th>\n",
       "      <th>author</th>\n",
       "    </tr>\n",
       "  </thead>\n",
       "  <tbody>\n",
       "    <tr>\n",
       "      <th>1</th>\n",
       "      <td>2021-09-09 21:35:48</td>\n",
       "      <td>‎Steenbergen KMA heeft deze groep gemaakt</td>\n",
       "      <td>lighthearted-kookabura</td>\n",
       "    </tr>\n",
       "    <tr>\n",
       "      <th>2</th>\n",
       "      <td>2021-09-09 21:35:48</td>\n",
       "      <td>‎Je bent toegevoegd</td>\n",
       "      <td>prismatic-baboon</td>\n",
       "    </tr>\n",
       "    <tr>\n",
       "      <th>3</th>\n",
       "      <td>2023-04-10 17:23:01</td>\n",
       "      <td>Voor degene die naar de bullenparade gaan, kun...</td>\n",
       "      <td>plaid-gazelle</td>\n",
       "    </tr>\n",
       "    <tr>\n",
       "      <th>4</th>\n",
       "      <td>2023-04-10 17:27:18</td>\n",
       "      <td>*lijken</td>\n",
       "      <td>plaid-gazelle</td>\n",
       "    </tr>\n",
       "    <tr>\n",
       "      <th>5</th>\n",
       "      <td>2023-04-13 12:33:36</td>\n",
       "      <td>Ha! Aangezien dinsdag 25 April beter uitkomt v...</td>\n",
       "      <td>plaid-gazelle</td>\n",
       "    </tr>\n",
       "  </tbody>\n",
       "</table>\n",
       "</div>"
      ],
      "text/plain": [
       "            timestamp                                            message  \\\n",
       "1 2021-09-09 21:35:48          ‎Steenbergen KMA heeft deze groep gemaakt   \n",
       "2 2021-09-09 21:35:48                                ‎Je bent toegevoegd   \n",
       "3 2023-04-10 17:23:01  Voor degene die naar de bullenparade gaan, kun...   \n",
       "4 2023-04-10 17:27:18                                            *lijken   \n",
       "5 2023-04-13 12:33:36  Ha! Aangezien dinsdag 25 April beter uitkomt v...   \n",
       "\n",
       "                   author  \n",
       "1  lighthearted-kookabura  \n",
       "2        prismatic-baboon  \n",
       "3           plaid-gazelle  \n",
       "4           plaid-gazelle  \n",
       "5           plaid-gazelle  "
      ]
     },
     "execution_count": 25,
     "metadata": {},
     "output_type": "execute_result"
    }
   ],
   "source": [
    "df.head()"
   ]
  },
  {
   "cell_type": "markdown",
   "metadata": {},
   "source": [
    "Let's find emojis in the text and add that as a feature."
   ]
  },
  {
   "cell_type": "code",
   "execution_count": 26,
   "metadata": {},
   "outputs": [],
   "source": [
    "import re\n",
    "\n",
    "emoji_pattern = re.compile(\n",
    "    \"[\"\n",
    "    \"\\U0001F600-\\U0001F64F\"  # emoticons\n",
    "    \"\\U0001F300-\\U0001F5FF\"  # symbols & pictographs\n",
    "    \"\\U0001F680-\\U0001F6FF\"  # transport & map symbols\n",
    "    \"\\U0001F1E0-\\U0001F1FF\"  # flags (iOS)\n",
    "    \"\\U00002702-\\U000027B0\"  # Dingbats\n",
    "    \"\\U000024C2-\\U0001F251\"\n",
    "    \"]+\",\n",
    "    flags=re.UNICODE,\n",
    ")\n",
    "\n",
    "\n",
    "def has_emoji(text):\n",
    "    return bool(emoji_pattern.search(text))\n",
    "\n",
    "\n",
    "df[\"has_emoji\"] = df[\"message\"].apply(has_emoji)"
   ]
  },
  {
   "cell_type": "markdown",
   "metadata": {},
   "source": [
    "Let's create a timestamp for a new, unique, filename."
   ]
  },
  {
   "cell_type": "code",
   "execution_count": 27,
   "metadata": {},
   "outputs": [
    {
     "data": {
      "text/plain": [
       "PosixPath('../data/processed/whatsapp-20250228-131711.csv')"
      ]
     },
     "execution_count": 27,
     "metadata": {},
     "output_type": "execute_result"
    }
   ],
   "source": [
    "now = datetime.now().strftime(\"%Y%m%d-%H%M%S\")\n",
    "output = processed / f\"whatsapp-{now}.csv\"\n",
    "output"
   ]
  },
  {
   "cell_type": "markdown",
   "metadata": {},
   "source": [
    "Let's save the file both as a csv and as a parquet file.\n",
    "Parquet has some advantages:\n",
    "- its about 100x faster to read and write\n",
    "- datatypes are preserved (eg the timestamp type). You will loose this in a csv file.\n",
    "- file size is much smaller\n",
    "\n",
    "The advantage of csv is that you can easily peak at the data in a text editor."
   ]
  },
  {
   "cell_type": "code",
   "execution_count": 28,
   "metadata": {},
   "outputs": [],
   "source": [
    "df.to_csv(output, index=False)\n",
    "df.to_parquet(output.with_suffix(\".parq\"), index=False)"
   ]
  },
  {
   "cell_type": "markdown",
   "metadata": {},
   "source": [
    "Now, go to `config.toml` and change the name by \"current\" to the parquet file you just created.\n",
    "This makes it easier to use the same file everywhere, without the need to continuously retype the name if you change it."
   ]
  }
 ],
 "metadata": {
  "kernelspec": {
   "display_name": ".venv",
   "language": "python",
   "name": "python3"
  },
  "language_info": {
   "codemirror_mode": {
    "name": "ipython",
    "version": 3
   },
   "file_extension": ".py",
   "mimetype": "text/x-python",
   "name": "python",
   "nbconvert_exporter": "python",
   "pygments_lexer": "ipython3",
   "version": "3.12.8"
  }
 },
 "nbformat": 4,
 "nbformat_minor": 2
}
